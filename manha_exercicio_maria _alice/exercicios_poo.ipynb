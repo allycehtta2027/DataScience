{
 "cells": [
  {
   "cell_type": "code",
   "execution_count": 3,
   "metadata": {},
   "outputs": [
    {
     "name": "stdout",
     "output_type": "stream",
     "text": [
      "Alo mundo\n"
     ]
    }
   ],
   "source": [
    "print(\"Alo mundo\")"
   ]
  },
  {
   "cell_type": "markdown",
   "metadata": {},
   "source": [
    "Exercício:\n",
    "\n",
    "- Criar uma classe produto\n",
    "- Com uma função para calcular o valor total do produto "
   ]
  },
  {
   "cell_type": "markdown",
   "metadata": {},
   "source": [
    "# Listas de regras\n",
    " - A Classe é um conjunto de objetos;\n",
    " - A Classe agrupa objetos em comum;\n",
    " - A Classe possui um costrutor; __init__\n",
    " - As caracteristicas dos objetos são atributos.\n",
    " - O self acessa as caracteristicas e comportamentos das classes\n",
    " - Os métodos de trabalho (workers- Oziel Moreira Neto): são métodos para calcular , desenvolver a logica de programação"
   ]
  },
  {
   "cell_type": "code",
   "execution_count": 14,
   "metadata": {},
   "outputs": [],
   "source": [
    "class Produto:\n",
    "    def __init__(self,qtde,preco):\n",
    "        self.qtde = qtde\n",
    "        self.preco = preco\n",
    "\n",
    "    def calcular_total(self):\n",
    "        return self.qtde*self.preco"
   ]
  },
  {
   "cell_type": "code",
   "execution_count": 15,
   "metadata": {},
   "outputs": [
    {
     "name": "stdout",
     "output_type": "stream",
     "text": [
      "O valor total de melancia é:100\n"
     ]
    }
   ],
   "source": [
    "# passagem de parametro por valor\n",
    "p = Produto(qtde=10,preco=10)\n",
    "# nome de variavel, nao pode ter acendo ou ç. E nao começa com letra maiuscula, elas são recomendadas à classe\n",
    "print(f\"O valor total de melancia é:{p.calcular_total()}\")\n"
   ]
  },
  {
   "cell_type": "markdown",
   "metadata": {},
   "source": [
    "Marvin agora e só você eu fiz o meu melhor e seu futuro eu sei de..."
   ]
  },
  {
   "cell_type": "markdown",
   "metadata": {},
   "source": [
    "Desafio:\n",
    "- Analise o Dataset aluguel.csv da aula passada.\n",
    "- E crie uma classe que representará o rquivo \n",
    "- Crie três imóveis objetos que esta no dataset."
   ]
  },
  {
   "cell_type": "code",
   "execution_count": 17,
   "metadata": {},
   "outputs": [],
   "source": [
    "\n",
    "# Definindo a classe Imovel\n",
    "class Imovel:\n",
    "    def __init__(self, tipo, bairro, area, quartos, banheiros, vagas_garagem, aluguel, IPTU):\n",
    "        self.tipo= tipo\n",
    "        self.bairro = bairro\n",
    "        self.area = area\n",
    "        self.quartos = quartos\n",
    "        self.banheiro = banheiros\n",
    "        self.vagas_garagem = vagas_garagem\n",
    "        self.aluguel = aluguel \n",
    "        self.IPTU = IPTU\n",
    "        \n",
    "imovel1 = Imovel ('casa','setor norte',1,4,2,1,800,2.000)\n",
    "imovel2 = Imovel ('kitnet','setor sul',1,2,4,5,900,3.000)\n",
    "imovel3 = Imovel ('apartamento','setor tradicional',2,3,5,7,1.000,4.000)\n"
   ]
  }
 ],
 "metadata": {
  "kernelspec": {
   "display_name": ".venv",
   "language": "python",
   "name": "python3"
  },
  "language_info": {
   "codemirror_mode": {
    "name": "ipython",
    "version": 3
   },
   "file_extension": ".py",
   "mimetype": "text/x-python",
   "name": "python",
   "nbconvert_exporter": "python",
   "pygments_lexer": "ipython3",
   "version": "3.12.4"
  }
 },
 "nbformat": 4,
 "nbformat_minor": 2
}
