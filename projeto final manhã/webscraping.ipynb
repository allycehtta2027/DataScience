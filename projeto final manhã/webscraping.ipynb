{
 "cells": [
  {
   "cell_type": "markdown",
   "metadata": {},
   "source": [
    "Aula de Web Scraping"
   ]
  },
  {
   "cell_type": "markdown",
   "metadata": {},
   "source": [
    "#### 1. Link para Raspagem\n",
    "https://www.terra.com.br/esportes/futebol/brasileiro-serie-a/tabela/#google_vignette\n",
    "\n",
    "#### 1.1 Leis Locais (Brasil)\n",
    "\n",
    "- LGPD lei geral de proteção de dados \n",
    "-  Ética e Responsabilidade\n",
    "\n",
    "1.2 Ler um HTML \n",
    "\n",
    "# Definir uma variavel ( é um espaço reservado na memoria do computador)\n"
   ]
  },
  {
   "cell_type": "code",
   "execution_count": 5,
   "metadata": {},
   "outputs": [],
   "source": [
    "# Definir uma variavel ( é um espaço reservado na memoria do computador)\n",
    "\n",
    "url = \"https://www.terra.com.br/esportes/futebol/brasileiro-serie-a/tabela/\"\n",
    "\n"
   ]
  },
  {
   "cell_type": "markdown",
   "metadata": {},
   "source": [
    "#### 1.3 instalar os pandas "
   ]
  },
  {
   "cell_type": "code",
   "execution_count": 1,
   "metadata": {},
   "outputs": [
    {
     "name": "stdout",
     "output_type": "stream",
     "text": [
      "web scraping\n"
     ]
    }
   ],
   "source": [
    "print('web scraping')"
   ]
  },
  {
   "cell_type": "code",
   "execution_count": 6,
   "metadata": {},
   "outputs": [
    {
     "data": {
      "text/plain": [
       "str"
      ]
     },
     "execution_count": 6,
     "metadata": {},
     "output_type": "execute_result"
    }
   ],
   "source": [
    "# Tipagem Dinamica\n",
    "# O Tipo é definido em tempo de execução \n",
    "type(url)\n"
   ]
  },
  {
   "cell_type": "code",
   "execution_count": 8,
   "metadata": {},
   "outputs": [
    {
     "name": "stdout",
     "output_type": "stream",
     "text": [
      "Requirement already satisfied: pandas in c:\\users\\ead\\desktop\\projeto final manhã\\.venv\\lib\\site-packages (2.2.2)\n",
      "Requirement already satisfied: numpy>=1.26.0 in c:\\users\\ead\\desktop\\projeto final manhã\\.venv\\lib\\site-packages (from pandas) (2.0.1)\n",
      "Requirement already satisfied: python-dateutil>=2.8.2 in c:\\users\\ead\\desktop\\projeto final manhã\\.venv\\lib\\site-packages (from pandas) (2.9.0.post0)\n",
      "Requirement already satisfied: pytz>=2020.1 in c:\\users\\ead\\desktop\\projeto final manhã\\.venv\\lib\\site-packages (from pandas) (2024.1)\n",
      "Requirement already satisfied: tzdata>=2022.7 in c:\\users\\ead\\desktop\\projeto final manhã\\.venv\\lib\\site-packages (from pandas) (2024.1)\n",
      "Requirement already satisfied: six>=1.5 in c:\\users\\ead\\desktop\\projeto final manhã\\.venv\\lib\\site-packages (from python-dateutil>=2.8.2->pandas) (1.16.0)\n"
     ]
    }
   ],
   "source": [
    "# Então instale o pandas\n",
    "! pip install pandas\n"
   ]
  },
  {
   "cell_type": "markdown",
   "metadata": {},
   "source": [
    "1.4 Ler HTML com pandas "
   ]
  },
  {
   "cell_type": "markdown",
   "metadata": {},
   "source": [
    "1.4 Importar o Pandas"
   ]
  },
  {
   "cell_type": "code",
   "execution_count": 9,
   "metadata": {},
   "outputs": [],
   "source": [
    "import pandas as pd"
   ]
  },
  {
   "cell_type": "code",
   "execution_count": 12,
   "metadata": {},
   "outputs": [],
   "source": [
    "tabela_brasileirao = pd.read_html(url,encoding='utf-8')\n",
    "\n",
    "# use UTF-8 ou ISQ-8859-1"
   ]
  },
  {
   "cell_type": "markdown",
   "metadata": {},
   "source": [
    "Instale a Biblioteca lxml"
   ]
  },
  {
   "cell_type": "code",
   "execution_count": 11,
   "metadata": {},
   "outputs": [
    {
     "name": "stdout",
     "output_type": "stream",
     "text": [
      "Collecting lxml\n",
      "  Using cached lxml-5.2.2-cp312-cp312-win_amd64.whl.metadata (3.5 kB)\n",
      "Using cached lxml-5.2.2-cp312-cp312-win_amd64.whl (3.8 MB)\n",
      "Installing collected packages: lxml\n",
      "Successfully installed lxml-5.2.2\n"
     ]
    }
   ],
   "source": [
    "! pip install lxml"
   ]
  },
  {
   "cell_type": "markdown",
   "metadata": {},
   "source": [
    "1.7 Conhecer Biblioteca para Web Scraping (site: https://pypi.org/)\n",
    "\n",
    "- html5lib\n",
    "- beautifulsoup4\n",
    "- lxml\n",
    "\n",
    "\n"
   ]
  },
  {
   "cell_type": "code",
   "execution_count": 13,
   "metadata": {},
   "outputs": [
    {
     "data": {
      "text/plain": [
       "[    Times  Times.1                 Times.2  Times.3   P   J   V  E   D  GP  \\\n",
       " 0       1      NaN             Botafogo >>   Subiu1  43  21  13  4   4  35   \n",
       " 1       2      NaN             Flamengo >>  Desceu1  40  20  12  4   4  34   \n",
       " 2       3      NaN            Fortaleza >>   Subiu1  39  20  11  6   3  26   \n",
       " 3       4      NaN            Palmeiras >>  Desceu1  37  21  11  4   6  28   \n",
       " 4       5      NaN             Cruzeiro >>      NaN  35  20  11  2   7  29   \n",
       " 5       6      NaN            São Paulo >>      NaN  35  21  10  5   6  29   \n",
       " 6       7      NaN                Bahia >>      NaN  32  21   9  5   7  29   \n",
       " 7       8      NaN         Athletico-PR >>      NaN  28  19   8  4   7  22   \n",
       " 8       9      NaN          Atlético-MG >>      NaN  28  19   7  7   5  28   \n",
       " 9      10      NaN           Bragantino >>      NaN  26  19   7  5   7  24   \n",
       " 10     11      NaN        Vasco da Gama >>      NaN  24  20   7  3  10  22   \n",
       " 11     12      NaN             Criciúma >>      NaN  24  19   6  6   7  28   \n",
       " 12     13      NaN            Juventude >>      NaN  22  19   5  7   7  21   \n",
       " 13     14      NaN               Grêmio >>   Subiu2  21  19   6  3  10  17   \n",
       " 14     15      NaN              Vitória >>   Subiu2  21  21   6  3  12  23   \n",
       " 15     16      NaN        Internacional >>  Desceu2  21  16   5  6   5  14   \n",
       " 16     17      NaN           Fluminense >>   Subiu2  20  20   5  5  10  16   \n",
       " 17     18      NaN          Corinthians >>  Desceu3  20  21   4  8   9  19   \n",
       " 18     19      NaN               Cuiabá >>  Desceu1  17  19   4  5  10  19   \n",
       " 19     20      NaN  Atlético Goianiense >>      NaN  12  21   2  6  13  17   \n",
       " \n",
       "     GC  SG   %  \n",
       " 0   20  15  68  \n",
       " 1   20  14  66  \n",
       " 2   19   7  65  \n",
       " 3   17  11  58  \n",
       " 4   22   7  58  \n",
       " 5   21   8  55  \n",
       " 6   25   4  50  \n",
       " 7   20   2  49  \n",
       " 8   28   0  49  \n",
       " 9   23   1  45  \n",
       " 10  31  -9  40  \n",
       " 11  29  -1  42  \n",
       " 12  25  -4  38  \n",
       " 13  22  -5  36  \n",
       " 14  32  -9  33  \n",
       " 15  14   0  43  \n",
       " 16  24  -8  33  \n",
       " 17  28  -9  31  \n",
       " 18  25  -6  29  \n",
       " 19  35 -18  19  ]"
      ]
     },
     "execution_count": 13,
     "metadata": {},
     "output_type": "execute_result"
    }
   ],
   "source": [
    "tabela_brasileirao"
   ]
  },
  {
   "cell_type": "markdown",
   "metadata": {},
   "source": [
    "1.9 Mostrar o tipo"
   ]
  },
  {
   "cell_type": "code",
   "execution_count": 21,
   "metadata": {},
   "outputs": [
    {
     "data": {
      "text/plain": [
       "list"
      ]
     },
     "execution_count": 21,
     "metadata": {},
     "output_type": "execute_result"
    }
   ],
   "source": [
    "type(tabela_brasileirao)"
   ]
  },
  {
   "cell_type": "markdown",
   "metadata": {},
   "source": [
    "1.10 realizar a conversão de lista para DataFama"
   ]
  },
  {
   "cell_type": "code",
   "execution_count": 23,
   "metadata": {},
   "outputs": [],
   "source": [
    "df = tabela_brasileirao[0]"
   ]
  },
  {
   "cell_type": "markdown",
   "metadata": {},
   "source": [
    "1.11 Mostrar os cinco primeiros"
   ]
  },
  {
   "cell_type": "code",
   "execution_count": 24,
   "metadata": {},
   "outputs": [
    {
     "data": {
      "text/html": [
       "<div>\n",
       "<style scoped>\n",
       "    .dataframe tbody tr th:only-of-type {\n",
       "        vertical-align: middle;\n",
       "    }\n",
       "\n",
       "    .dataframe tbody tr th {\n",
       "        vertical-align: top;\n",
       "    }\n",
       "\n",
       "    .dataframe thead th {\n",
       "        text-align: right;\n",
       "    }\n",
       "</style>\n",
       "<table border=\"1\" class=\"dataframe\">\n",
       "  <thead>\n",
       "    <tr style=\"text-align: right;\">\n",
       "      <th></th>\n",
       "      <th>Times</th>\n",
       "      <th>Times.1</th>\n",
       "      <th>Times.2</th>\n",
       "      <th>Times.3</th>\n",
       "      <th>P</th>\n",
       "      <th>J</th>\n",
       "      <th>V</th>\n",
       "      <th>E</th>\n",
       "      <th>D</th>\n",
       "      <th>GP</th>\n",
       "      <th>GC</th>\n",
       "      <th>SG</th>\n",
       "      <th>%</th>\n",
       "    </tr>\n",
       "  </thead>\n",
       "  <tbody>\n",
       "    <tr>\n",
       "      <th>0</th>\n",
       "      <td>1</td>\n",
       "      <td>NaN</td>\n",
       "      <td>Botafogo &gt;&gt;</td>\n",
       "      <td>Subiu1</td>\n",
       "      <td>43</td>\n",
       "      <td>21</td>\n",
       "      <td>13</td>\n",
       "      <td>4</td>\n",
       "      <td>4</td>\n",
       "      <td>35</td>\n",
       "      <td>20</td>\n",
       "      <td>15</td>\n",
       "      <td>68</td>\n",
       "    </tr>\n",
       "    <tr>\n",
       "      <th>1</th>\n",
       "      <td>2</td>\n",
       "      <td>NaN</td>\n",
       "      <td>Flamengo &gt;&gt;</td>\n",
       "      <td>Desceu1</td>\n",
       "      <td>40</td>\n",
       "      <td>20</td>\n",
       "      <td>12</td>\n",
       "      <td>4</td>\n",
       "      <td>4</td>\n",
       "      <td>34</td>\n",
       "      <td>20</td>\n",
       "      <td>14</td>\n",
       "      <td>66</td>\n",
       "    </tr>\n",
       "    <tr>\n",
       "      <th>2</th>\n",
       "      <td>3</td>\n",
       "      <td>NaN</td>\n",
       "      <td>Fortaleza &gt;&gt;</td>\n",
       "      <td>Subiu1</td>\n",
       "      <td>39</td>\n",
       "      <td>20</td>\n",
       "      <td>11</td>\n",
       "      <td>6</td>\n",
       "      <td>3</td>\n",
       "      <td>26</td>\n",
       "      <td>19</td>\n",
       "      <td>7</td>\n",
       "      <td>65</td>\n",
       "    </tr>\n",
       "    <tr>\n",
       "      <th>3</th>\n",
       "      <td>4</td>\n",
       "      <td>NaN</td>\n",
       "      <td>Palmeiras &gt;&gt;</td>\n",
       "      <td>Desceu1</td>\n",
       "      <td>37</td>\n",
       "      <td>21</td>\n",
       "      <td>11</td>\n",
       "      <td>4</td>\n",
       "      <td>6</td>\n",
       "      <td>28</td>\n",
       "      <td>17</td>\n",
       "      <td>11</td>\n",
       "      <td>58</td>\n",
       "    </tr>\n",
       "    <tr>\n",
       "      <th>4</th>\n",
       "      <td>5</td>\n",
       "      <td>NaN</td>\n",
       "      <td>Cruzeiro &gt;&gt;</td>\n",
       "      <td>NaN</td>\n",
       "      <td>35</td>\n",
       "      <td>20</td>\n",
       "      <td>11</td>\n",
       "      <td>2</td>\n",
       "      <td>7</td>\n",
       "      <td>29</td>\n",
       "      <td>22</td>\n",
       "      <td>7</td>\n",
       "      <td>58</td>\n",
       "    </tr>\n",
       "  </tbody>\n",
       "</table>\n",
       "</div>"
      ],
      "text/plain": [
       "   Times  Times.1       Times.2  Times.3   P   J   V  E  D  GP  GC  SG   %\n",
       "0      1      NaN   Botafogo >>   Subiu1  43  21  13  4  4  35  20  15  68\n",
       "1      2      NaN   Flamengo >>  Desceu1  40  20  12  4  4  34  20  14  66\n",
       "2      3      NaN  Fortaleza >>   Subiu1  39  20  11  6  3  26  19   7  65\n",
       "3      4      NaN  Palmeiras >>  Desceu1  37  21  11  4  6  28  17  11  58\n",
       "4      5      NaN   Cruzeiro >>      NaN  35  20  11  2  7  29  22   7  58"
      ]
     },
     "execution_count": 24,
     "metadata": {},
     "output_type": "execute_result"
    }
   ],
   "source": [
    "df.head()"
   ]
  },
  {
   "cell_type": "markdown",
   "metadata": {},
   "source": [
    "1.12 mostrar os cinco ultimos"
   ]
  },
  {
   "cell_type": "code",
   "execution_count": 25,
   "metadata": {},
   "outputs": [
    {
     "data": {
      "text/html": [
       "<div>\n",
       "<style scoped>\n",
       "    .dataframe tbody tr th:only-of-type {\n",
       "        vertical-align: middle;\n",
       "    }\n",
       "\n",
       "    .dataframe tbody tr th {\n",
       "        vertical-align: top;\n",
       "    }\n",
       "\n",
       "    .dataframe thead th {\n",
       "        text-align: right;\n",
       "    }\n",
       "</style>\n",
       "<table border=\"1\" class=\"dataframe\">\n",
       "  <thead>\n",
       "    <tr style=\"text-align: right;\">\n",
       "      <th></th>\n",
       "      <th>Times</th>\n",
       "      <th>Times.1</th>\n",
       "      <th>Times.2</th>\n",
       "      <th>Times.3</th>\n",
       "      <th>P</th>\n",
       "      <th>J</th>\n",
       "      <th>V</th>\n",
       "      <th>E</th>\n",
       "      <th>D</th>\n",
       "      <th>GP</th>\n",
       "      <th>GC</th>\n",
       "      <th>SG</th>\n",
       "      <th>%</th>\n",
       "    </tr>\n",
       "  </thead>\n",
       "  <tbody>\n",
       "    <tr>\n",
       "      <th>15</th>\n",
       "      <td>16</td>\n",
       "      <td>NaN</td>\n",
       "      <td>Internacional &gt;&gt;</td>\n",
       "      <td>Desceu2</td>\n",
       "      <td>21</td>\n",
       "      <td>16</td>\n",
       "      <td>5</td>\n",
       "      <td>6</td>\n",
       "      <td>5</td>\n",
       "      <td>14</td>\n",
       "      <td>14</td>\n",
       "      <td>0</td>\n",
       "      <td>43</td>\n",
       "    </tr>\n",
       "    <tr>\n",
       "      <th>16</th>\n",
       "      <td>17</td>\n",
       "      <td>NaN</td>\n",
       "      <td>Fluminense &gt;&gt;</td>\n",
       "      <td>Subiu2</td>\n",
       "      <td>20</td>\n",
       "      <td>20</td>\n",
       "      <td>5</td>\n",
       "      <td>5</td>\n",
       "      <td>10</td>\n",
       "      <td>16</td>\n",
       "      <td>24</td>\n",
       "      <td>-8</td>\n",
       "      <td>33</td>\n",
       "    </tr>\n",
       "    <tr>\n",
       "      <th>17</th>\n",
       "      <td>18</td>\n",
       "      <td>NaN</td>\n",
       "      <td>Corinthians &gt;&gt;</td>\n",
       "      <td>Desceu3</td>\n",
       "      <td>20</td>\n",
       "      <td>21</td>\n",
       "      <td>4</td>\n",
       "      <td>8</td>\n",
       "      <td>9</td>\n",
       "      <td>19</td>\n",
       "      <td>28</td>\n",
       "      <td>-9</td>\n",
       "      <td>31</td>\n",
       "    </tr>\n",
       "    <tr>\n",
       "      <th>18</th>\n",
       "      <td>19</td>\n",
       "      <td>NaN</td>\n",
       "      <td>Cuiabá &gt;&gt;</td>\n",
       "      <td>Desceu1</td>\n",
       "      <td>17</td>\n",
       "      <td>19</td>\n",
       "      <td>4</td>\n",
       "      <td>5</td>\n",
       "      <td>10</td>\n",
       "      <td>19</td>\n",
       "      <td>25</td>\n",
       "      <td>-6</td>\n",
       "      <td>29</td>\n",
       "    </tr>\n",
       "    <tr>\n",
       "      <th>19</th>\n",
       "      <td>20</td>\n",
       "      <td>NaN</td>\n",
       "      <td>Atlético Goianiense &gt;&gt;</td>\n",
       "      <td>NaN</td>\n",
       "      <td>12</td>\n",
       "      <td>21</td>\n",
       "      <td>2</td>\n",
       "      <td>6</td>\n",
       "      <td>13</td>\n",
       "      <td>17</td>\n",
       "      <td>35</td>\n",
       "      <td>-18</td>\n",
       "      <td>19</td>\n",
       "    </tr>\n",
       "  </tbody>\n",
       "</table>\n",
       "</div>"
      ],
      "text/plain": [
       "    Times  Times.1                 Times.2  Times.3   P   J  V  E   D  GP  GC  \\\n",
       "15     16      NaN        Internacional >>  Desceu2  21  16  5  6   5  14  14   \n",
       "16     17      NaN           Fluminense >>   Subiu2  20  20  5  5  10  16  24   \n",
       "17     18      NaN          Corinthians >>  Desceu3  20  21  4  8   9  19  28   \n",
       "18     19      NaN               Cuiabá >>  Desceu1  17  19  4  5  10  19  25   \n",
       "19     20      NaN  Atlético Goianiense >>      NaN  12  21  2  6  13  17  35   \n",
       "\n",
       "    SG   %  \n",
       "15   0  43  \n",
       "16  -8  33  \n",
       "17  -9  31  \n",
       "18  -6  29  \n",
       "19 -18  19  "
      ]
     },
     "execution_count": 25,
     "metadata": {},
     "output_type": "execute_result"
    }
   ],
   "source": [
    "df.tail()"
   ]
  },
  {
   "cell_type": "markdown",
   "metadata": {},
   "source": [
    "1.13 mostrar todas as colunas"
   ]
  },
  {
   "cell_type": "code",
   "execution_count": 26,
   "metadata": {},
   "outputs": [
    {
     "data": {
      "text/plain": [
       "Index(['Times', 'Times.1', 'Times.2', 'Times.3', 'P', 'J', 'V', 'E', 'D', 'GP',\n",
       "       'GC', 'SG', '%'],\n",
       "      dtype='object')"
      ]
     },
     "execution_count": 26,
     "metadata": {},
     "output_type": "execute_result"
    }
   ],
   "source": [
    "df.columns "
   ]
  },
  {
   "cell_type": "markdown",
   "metadata": {},
   "source": [
    "#### 1.14 mostrar a coluna\n",
    "1.14 mostrar varias colunas [time e vitorias]"
   ]
  },
  {
   "cell_type": "markdown",
   "metadata": {},
   "source": [
    "1.15 mostrar colunas"
   ]
  },
  {
   "cell_type": "code",
   "execution_count": 28,
   "metadata": {},
   "outputs": [
    {
     "data": {
      "text/plain": [
       "0                Botafogo >>\n",
       "1                Flamengo >>\n",
       "2               Fortaleza >>\n",
       "3               Palmeiras >>\n",
       "4                Cruzeiro >>\n",
       "5               São Paulo >>\n",
       "6                   Bahia >>\n",
       "7            Athletico-PR >>\n",
       "8             Atlético-MG >>\n",
       "9              Bragantino >>\n",
       "10          Vasco da Gama >>\n",
       "11               Criciúma >>\n",
       "12              Juventude >>\n",
       "13                 Grêmio >>\n",
       "14                Vitória >>\n",
       "15          Internacional >>\n",
       "16             Fluminense >>\n",
       "17            Corinthians >>\n",
       "18                 Cuiabá >>\n",
       "19    Atlético Goianiense >>\n",
       "Name: Times.2, dtype: object"
      ]
     },
     "execution_count": 28,
     "metadata": {},
     "output_type": "execute_result"
    }
   ],
   "source": [
    "df['Times.2']"
   ]
  },
  {
   "cell_type": "markdown",
   "metadata": {},
   "source": [
    "1.16 mostrar varias colunas(time e vitorias)"
   ]
  },
  {
   "cell_type": "markdown",
   "metadata": {},
   "source": [
    "1.16- mostrar informaçoes estruturais do DataFrame "
   ]
  },
  {
   "cell_type": "code",
   "execution_count": 29,
   "metadata": {},
   "outputs": [
    {
     "name": "stdout",
     "output_type": "stream",
     "text": [
      "<class 'pandas.core.frame.DataFrame'>\n",
      "RangeIndex: 20 entries, 0 to 19\n",
      "Data columns (total 13 columns):\n",
      " #   Column   Non-Null Count  Dtype  \n",
      "---  ------   --------------  -----  \n",
      " 0   Times    20 non-null     int64  \n",
      " 1   Times.1  0 non-null      float64\n",
      " 2   Times.2  20 non-null     object \n",
      " 3   Times.3  10 non-null     object \n",
      " 4   P        20 non-null     int64  \n",
      " 5   J        20 non-null     int64  \n",
      " 6   V        20 non-null     int64  \n",
      " 7   E        20 non-null     int64  \n",
      " 8   D        20 non-null     int64  \n",
      " 9   GP       20 non-null     int64  \n",
      " 10  GC       20 non-null     int64  \n",
      " 11  SG       20 non-null     int64  \n",
      " 12  %        20 non-null     int64  \n",
      "dtypes: float64(1), int64(10), object(2)\n",
      "memory usage: 2.2+ KB\n"
     ]
    }
   ],
   "source": [
    "df.info()"
   ]
  },
  {
   "cell_type": "markdown",
   "metadata": {},
   "source": [
    "#### 1.17 mostrar informaçoes de estatisticas DESCRITIVA do DataFrame "
   ]
  },
  {
   "cell_type": "code",
   "execution_count": 30,
   "metadata": {},
   "outputs": [
    {
     "data": {
      "text/html": [
       "<div>\n",
       "<style scoped>\n",
       "    .dataframe tbody tr th:only-of-type {\n",
       "        vertical-align: middle;\n",
       "    }\n",
       "\n",
       "    .dataframe tbody tr th {\n",
       "        vertical-align: top;\n",
       "    }\n",
       "\n",
       "    .dataframe thead th {\n",
       "        text-align: right;\n",
       "    }\n",
       "</style>\n",
       "<table border=\"1\" class=\"dataframe\">\n",
       "  <thead>\n",
       "    <tr style=\"text-align: right;\">\n",
       "      <th></th>\n",
       "      <th>Times</th>\n",
       "      <th>Times.1</th>\n",
       "      <th>P</th>\n",
       "      <th>J</th>\n",
       "      <th>V</th>\n",
       "      <th>E</th>\n",
       "      <th>D</th>\n",
       "      <th>GP</th>\n",
       "      <th>GC</th>\n",
       "      <th>SG</th>\n",
       "      <th>%</th>\n",
       "    </tr>\n",
       "  </thead>\n",
       "  <tbody>\n",
       "    <tr>\n",
       "      <th>count</th>\n",
       "      <td>20.00000</td>\n",
       "      <td>0.0</td>\n",
       "      <td>20.00000</td>\n",
       "      <td>20.000000</td>\n",
       "      <td>20.000000</td>\n",
       "      <td>20.000000</td>\n",
       "      <td>20.000000</td>\n",
       "      <td>20.000000</td>\n",
       "      <td>20.00000</td>\n",
       "      <td>20.000000</td>\n",
       "      <td>20.000000</td>\n",
       "    </tr>\n",
       "    <tr>\n",
       "      <th>mean</th>\n",
       "      <td>10.50000</td>\n",
       "      <td>NaN</td>\n",
       "      <td>27.25000</td>\n",
       "      <td>19.800000</td>\n",
       "      <td>7.450000</td>\n",
       "      <td>4.900000</td>\n",
       "      <td>7.450000</td>\n",
       "      <td>24.000000</td>\n",
       "      <td>24.00000</td>\n",
       "      <td>0.000000</td>\n",
       "      <td>45.350000</td>\n",
       "    </tr>\n",
       "    <tr>\n",
       "      <th>std</th>\n",
       "      <td>5.91608</td>\n",
       "      <td>NaN</td>\n",
       "      <td>8.57705</td>\n",
       "      <td>1.239694</td>\n",
       "      <td>3.051747</td>\n",
       "      <td>1.552587</td>\n",
       "      <td>2.723678</td>\n",
       "      <td>5.973626</td>\n",
       "      <td>5.30144</td>\n",
       "      <td>8.687559</td>\n",
       "      <td>13.468384</td>\n",
       "    </tr>\n",
       "    <tr>\n",
       "      <th>min</th>\n",
       "      <td>1.00000</td>\n",
       "      <td>NaN</td>\n",
       "      <td>12.00000</td>\n",
       "      <td>16.000000</td>\n",
       "      <td>2.000000</td>\n",
       "      <td>2.000000</td>\n",
       "      <td>3.000000</td>\n",
       "      <td>14.000000</td>\n",
       "      <td>14.00000</td>\n",
       "      <td>-18.000000</td>\n",
       "      <td>19.000000</td>\n",
       "    </tr>\n",
       "    <tr>\n",
       "      <th>25%</th>\n",
       "      <td>5.75000</td>\n",
       "      <td>NaN</td>\n",
       "      <td>21.00000</td>\n",
       "      <td>19.000000</td>\n",
       "      <td>5.000000</td>\n",
       "      <td>4.000000</td>\n",
       "      <td>5.750000</td>\n",
       "      <td>19.000000</td>\n",
       "      <td>20.00000</td>\n",
       "      <td>-6.500000</td>\n",
       "      <td>35.250000</td>\n",
       "    </tr>\n",
       "    <tr>\n",
       "      <th>50%</th>\n",
       "      <td>10.50000</td>\n",
       "      <td>NaN</td>\n",
       "      <td>25.00000</td>\n",
       "      <td>20.000000</td>\n",
       "      <td>7.000000</td>\n",
       "      <td>5.000000</td>\n",
       "      <td>7.000000</td>\n",
       "      <td>23.500000</td>\n",
       "      <td>23.50000</td>\n",
       "      <td>0.000000</td>\n",
       "      <td>44.000000</td>\n",
       "    </tr>\n",
       "    <tr>\n",
       "      <th>75%</th>\n",
       "      <td>15.25000</td>\n",
       "      <td>NaN</td>\n",
       "      <td>35.00000</td>\n",
       "      <td>21.000000</td>\n",
       "      <td>10.250000</td>\n",
       "      <td>6.000000</td>\n",
       "      <td>10.000000</td>\n",
       "      <td>28.250000</td>\n",
       "      <td>28.00000</td>\n",
       "      <td>7.000000</td>\n",
       "      <td>55.750000</td>\n",
       "    </tr>\n",
       "    <tr>\n",
       "      <th>max</th>\n",
       "      <td>20.00000</td>\n",
       "      <td>NaN</td>\n",
       "      <td>43.00000</td>\n",
       "      <td>21.000000</td>\n",
       "      <td>13.000000</td>\n",
       "      <td>8.000000</td>\n",
       "      <td>13.000000</td>\n",
       "      <td>35.000000</td>\n",
       "      <td>35.00000</td>\n",
       "      <td>15.000000</td>\n",
       "      <td>68.000000</td>\n",
       "    </tr>\n",
       "  </tbody>\n",
       "</table>\n",
       "</div>"
      ],
      "text/plain": [
       "          Times  Times.1         P          J          V          E  \\\n",
       "count  20.00000      0.0  20.00000  20.000000  20.000000  20.000000   \n",
       "mean   10.50000      NaN  27.25000  19.800000   7.450000   4.900000   \n",
       "std     5.91608      NaN   8.57705   1.239694   3.051747   1.552587   \n",
       "min     1.00000      NaN  12.00000  16.000000   2.000000   2.000000   \n",
       "25%     5.75000      NaN  21.00000  19.000000   5.000000   4.000000   \n",
       "50%    10.50000      NaN  25.00000  20.000000   7.000000   5.000000   \n",
       "75%    15.25000      NaN  35.00000  21.000000  10.250000   6.000000   \n",
       "max    20.00000      NaN  43.00000  21.000000  13.000000   8.000000   \n",
       "\n",
       "               D         GP        GC         SG          %  \n",
       "count  20.000000  20.000000  20.00000  20.000000  20.000000  \n",
       "mean    7.450000  24.000000  24.00000   0.000000  45.350000  \n",
       "std     2.723678   5.973626   5.30144   8.687559  13.468384  \n",
       "min     3.000000  14.000000  14.00000 -18.000000  19.000000  \n",
       "25%     5.750000  19.000000  20.00000  -6.500000  35.250000  \n",
       "50%     7.000000  23.500000  23.50000   0.000000  44.000000  \n",
       "75%    10.000000  28.250000  28.00000   7.000000  55.750000  \n",
       "max    13.000000  35.000000  35.00000  15.000000  68.000000  "
      ]
     },
     "execution_count": 30,
     "metadata": {},
     "output_type": "execute_result"
    }
   ],
   "source": [
    "df.describe()"
   ]
  },
  {
   "cell_type": "markdown",
   "metadata": {},
   "source": [
    "1.18 mostrar informaçoes da coluna times. 2 e %"
   ]
  },
  {
   "cell_type": "code",
   "execution_count": 32,
   "metadata": {},
   "outputs": [
    {
     "data": {
      "text/html": [
       "<div>\n",
       "<style scoped>\n",
       "    .dataframe tbody tr th:only-of-type {\n",
       "        vertical-align: middle;\n",
       "    }\n",
       "\n",
       "    .dataframe tbody tr th {\n",
       "        vertical-align: top;\n",
       "    }\n",
       "\n",
       "    .dataframe thead th {\n",
       "        text-align: right;\n",
       "    }\n",
       "</style>\n",
       "<table border=\"1\" class=\"dataframe\">\n",
       "  <thead>\n",
       "    <tr style=\"text-align: right;\">\n",
       "      <th></th>\n",
       "      <th>Times.2</th>\n",
       "      <th>%</th>\n",
       "    </tr>\n",
       "  </thead>\n",
       "  <tbody>\n",
       "    <tr>\n",
       "      <th>0</th>\n",
       "      <td>Botafogo &gt;&gt;</td>\n",
       "      <td>68</td>\n",
       "    </tr>\n",
       "    <tr>\n",
       "      <th>1</th>\n",
       "      <td>Flamengo &gt;&gt;</td>\n",
       "      <td>66</td>\n",
       "    </tr>\n",
       "    <tr>\n",
       "      <th>2</th>\n",
       "      <td>Fortaleza &gt;&gt;</td>\n",
       "      <td>65</td>\n",
       "    </tr>\n",
       "    <tr>\n",
       "      <th>3</th>\n",
       "      <td>Palmeiras &gt;&gt;</td>\n",
       "      <td>58</td>\n",
       "    </tr>\n",
       "    <tr>\n",
       "      <th>4</th>\n",
       "      <td>Cruzeiro &gt;&gt;</td>\n",
       "      <td>58</td>\n",
       "    </tr>\n",
       "  </tbody>\n",
       "</table>\n",
       "</div>"
      ],
      "text/plain": [
       "        Times.2   %\n",
       "0   Botafogo >>  68\n",
       "1   Flamengo >>  66\n",
       "2  Fortaleza >>  65\n",
       "3  Palmeiras >>  58\n",
       "4   Cruzeiro >>  58"
      ]
     },
     "execution_count": 32,
     "metadata": {},
     "output_type": "execute_result"
    }
   ],
   "source": [
    "df[['Times.2', '%']].head()"
   ]
  },
  {
   "cell_type": "code",
   "execution_count": 34,
   "metadata": {},
   "outputs": [],
   "source": [
    "df.rename(columns={'Times.2': 'time'},inplace=True)\n"
   ]
  },
  {
   "cell_type": "code",
   "execution_count": 35,
   "metadata": {},
   "outputs": [],
   "source": [
    "df.rename(columns={'%':'percentual'},inplace=True)"
   ]
  },
  {
   "cell_type": "code",
   "execution_count": 36,
   "metadata": {},
   "outputs": [
    {
     "data": {
      "text/html": [
       "<div>\n",
       "<style scoped>\n",
       "    .dataframe tbody tr th:only-of-type {\n",
       "        vertical-align: middle;\n",
       "    }\n",
       "\n",
       "    .dataframe tbody tr th {\n",
       "        vertical-align: top;\n",
       "    }\n",
       "\n",
       "    .dataframe thead th {\n",
       "        text-align: right;\n",
       "    }\n",
       "</style>\n",
       "<table border=\"1\" class=\"dataframe\">\n",
       "  <thead>\n",
       "    <tr style=\"text-align: right;\">\n",
       "      <th></th>\n",
       "      <th>time</th>\n",
       "      <th>percentual</th>\n",
       "    </tr>\n",
       "  </thead>\n",
       "  <tbody>\n",
       "    <tr>\n",
       "      <th>0</th>\n",
       "      <td>Botafogo &gt;&gt;</td>\n",
       "      <td>68</td>\n",
       "    </tr>\n",
       "    <tr>\n",
       "      <th>1</th>\n",
       "      <td>Flamengo &gt;&gt;</td>\n",
       "      <td>66</td>\n",
       "    </tr>\n",
       "    <tr>\n",
       "      <th>2</th>\n",
       "      <td>Fortaleza &gt;&gt;</td>\n",
       "      <td>65</td>\n",
       "    </tr>\n",
       "    <tr>\n",
       "      <th>3</th>\n",
       "      <td>Palmeiras &gt;&gt;</td>\n",
       "      <td>58</td>\n",
       "    </tr>\n",
       "    <tr>\n",
       "      <th>4</th>\n",
       "      <td>Cruzeiro &gt;&gt;</td>\n",
       "      <td>58</td>\n",
       "    </tr>\n",
       "    <tr>\n",
       "      <th>5</th>\n",
       "      <td>São Paulo &gt;&gt;</td>\n",
       "      <td>55</td>\n",
       "    </tr>\n",
       "    <tr>\n",
       "      <th>6</th>\n",
       "      <td>Bahia &gt;&gt;</td>\n",
       "      <td>50</td>\n",
       "    </tr>\n",
       "    <tr>\n",
       "      <th>7</th>\n",
       "      <td>Athletico-PR &gt;&gt;</td>\n",
       "      <td>49</td>\n",
       "    </tr>\n",
       "    <tr>\n",
       "      <th>8</th>\n",
       "      <td>Atlético-MG &gt;&gt;</td>\n",
       "      <td>49</td>\n",
       "    </tr>\n",
       "    <tr>\n",
       "      <th>9</th>\n",
       "      <td>Bragantino &gt;&gt;</td>\n",
       "      <td>45</td>\n",
       "    </tr>\n",
       "    <tr>\n",
       "      <th>10</th>\n",
       "      <td>Vasco da Gama &gt;&gt;</td>\n",
       "      <td>40</td>\n",
       "    </tr>\n",
       "    <tr>\n",
       "      <th>11</th>\n",
       "      <td>Criciúma &gt;&gt;</td>\n",
       "      <td>42</td>\n",
       "    </tr>\n",
       "    <tr>\n",
       "      <th>12</th>\n",
       "      <td>Juventude &gt;&gt;</td>\n",
       "      <td>38</td>\n",
       "    </tr>\n",
       "    <tr>\n",
       "      <th>13</th>\n",
       "      <td>Grêmio &gt;&gt;</td>\n",
       "      <td>36</td>\n",
       "    </tr>\n",
       "    <tr>\n",
       "      <th>14</th>\n",
       "      <td>Vitória &gt;&gt;</td>\n",
       "      <td>33</td>\n",
       "    </tr>\n",
       "    <tr>\n",
       "      <th>15</th>\n",
       "      <td>Internacional &gt;&gt;</td>\n",
       "      <td>43</td>\n",
       "    </tr>\n",
       "    <tr>\n",
       "      <th>16</th>\n",
       "      <td>Fluminense &gt;&gt;</td>\n",
       "      <td>33</td>\n",
       "    </tr>\n",
       "    <tr>\n",
       "      <th>17</th>\n",
       "      <td>Corinthians &gt;&gt;</td>\n",
       "      <td>31</td>\n",
       "    </tr>\n",
       "    <tr>\n",
       "      <th>18</th>\n",
       "      <td>Cuiabá &gt;&gt;</td>\n",
       "      <td>29</td>\n",
       "    </tr>\n",
       "    <tr>\n",
       "      <th>19</th>\n",
       "      <td>Atlético Goianiense &gt;&gt;</td>\n",
       "      <td>19</td>\n",
       "    </tr>\n",
       "  </tbody>\n",
       "</table>\n",
       "</div>"
      ],
      "text/plain": [
       "                      time  percentual\n",
       "0              Botafogo >>          68\n",
       "1              Flamengo >>          66\n",
       "2             Fortaleza >>          65\n",
       "3             Palmeiras >>          58\n",
       "4              Cruzeiro >>          58\n",
       "5             São Paulo >>          55\n",
       "6                 Bahia >>          50\n",
       "7          Athletico-PR >>          49\n",
       "8           Atlético-MG >>          49\n",
       "9            Bragantino >>          45\n",
       "10        Vasco da Gama >>          40\n",
       "11             Criciúma >>          42\n",
       "12            Juventude >>          38\n",
       "13               Grêmio >>          36\n",
       "14              Vitória >>          33\n",
       "15        Internacional >>          43\n",
       "16           Fluminense >>          33\n",
       "17          Corinthians >>          31\n",
       "18               Cuiabá >>          29\n",
       "19  Atlético Goianiense >>          19"
      ]
     },
     "execution_count": 36,
     "metadata": {},
     "output_type": "execute_result"
    }
   ],
   "source": [
    "df[['time','percentual']]"
   ]
  },
  {
   "cell_type": "markdown",
   "metadata": {},
   "source": [
    "1.19-Dever de Casa"
   ]
  },
  {
   "cell_type": "code",
   "execution_count": null,
   "metadata": {},
   "outputs": [],
   "source": [
    "#### 1.19 Estudar função replace(mudar strings), regex, plot(criar graficos)"
   ]
  }
 ],
 "metadata": {
  "kernelspec": {
   "display_name": ".venv",
   "language": "python",
   "name": "python3"
  },
  "language_info": {
   "codemirror_mode": {
    "name": "ipython",
    "version": 3
   },
   "file_extension": ".py",
   "mimetype": "text/x-python",
   "name": "python",
   "nbconvert_exporter": "python",
   "pygments_lexer": "ipython3",
   "version": "3.12.5"
  }
 },
 "nbformat": 4,
 "nbformat_minor": 2
}
