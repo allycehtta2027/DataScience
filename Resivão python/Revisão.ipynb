{
 "cells": [
  {
   "cell_type": "code",
   "execution_count": null,
   "metadata": {},
   "outputs": [],
   "source": [
    "Lista"
   ]
  },
  {
   "cell_type": "markdown",
   "metadata": {},
   "source": [
    "...\n",
    "\n",
    "residencial, comercial, fazenda \n",
    "\n",
    "...\n",
    "\n",
    "# colchetes\n",
    "\n",
    "tipos_imoveis = ['residencial', 'fazenda']\n",
    "type(tipos_imoveis)"
   ]
  },
  {
   "cell_type": "markdown",
   "metadata": {},
   "source": [
    ". A Lista muda, mas a tupla não"
   ]
  },
  {
   "cell_type": "markdown",
   "metadata": {},
   "source": [
    "Tupla\n"
   ]
  },
  {
   "cell_type": "code",
   "execution_count": null,
   "metadata": {},
   "outputs": [],
   "source": [
    "tipos_imoveis = (\"residencial\" , \"comercial\" , \"fazenda\")\n",
    "tipe(tipos_imoveis)"
   ]
  },
  {
   "cell_type": "markdown",
   "metadata": {},
   "source": [
    "Conjunto\n",
    "{itens}"
   ]
  },
  {
   "cell_type": "markdown",
   "metadata": {},
   "source": [
    "tipos_imoveis = (\"residencial\", \"comercial\" ,\"fazenda\")\n",
    "tipos_imoveis\n",
    "type(tipos_imoveis)"
   ]
  },
  {
   "cell_type": "markdown",
   "metadata": {},
   "source": [
    "list (lista) - [] mutável\n",
    "tuple (tupla) - (imutavel)\n",
    "set (conjuntos) não repetir"
   ]
  },
  {
   "cell_type": "markdown",
   "metadata": {},
   "source": [
    "EXERCÍCIOS\n",
    "\n",
    ". Crie uma lista de vitoria do seu time \n",
    ". Crie uma tupla de fastfood \n",
    ". Crie um conjunto de itens de compra do supermercado"
   ]
  },
  {
   "cell_type": "code",
   "execution_count": 1,
   "metadata": {},
   "outputs": [
    {
     "name": "stdout",
     "output_type": "stream",
     "text": [
      "[1942, 1948, 1970, 1975]\n"
     ]
    },
    {
     "data": {
      "text/plain": [
       "list"
      ]
     },
     "execution_count": 1,
     "metadata": {},
     "output_type": "execute_result"
    }
   ],
   "source": [
    "vitorias_copas = [1942, 1948 ,1970, 1975]\n",
    "print(vitorias_copas)\n",
    "type(vitorias_copas)"
   ]
  },
  {
   "cell_type": "code",
   "execution_count": null,
   "metadata": {},
   "outputs": [],
   "source": [
    "comidas = (\"Big mac\", \"Batata frita\",\"hamburgue\",\"lanche feliz,\")\n",
    "print(comidas)\n",
    "type(comidas)"
   ]
  },
  {
   "cell_type": "code",
   "execution_count": null,
   "metadata": {},
   "outputs": [],
   "source": [
    "compras ={ \"Arroz\", \"Feijão\", \"suco\", \"carne\",}\n",
    "print(compras)\n",
    "type(compras)"
   ]
  },
  {
   "cell_type": "code",
   "execution_count": 3,
   "metadata": {},
   "outputs": [
    {
     "name": "stdout",
     "output_type": "stream",
     "text": [
      "3\n",
      "taguatinga: 3\n",
      "brazlãndia: 5\n",
      "ceilãndia: 2\n",
      "candangolandia: 4\n"
     ]
    }
   ],
   "source": [
    "# Dicionário\n",
    "apartamentos = { \n",
    "  \"taguatinga\" : 3,\n",
    "  \"brazlãndia\" : 5,\n",
    "  \"ceilãndia\" : 2\n",
    "}\n",
    "\n",
    "print(apartamentos[\"taguatinga\"])\n",
    "\n",
    " # adicionar novo apartamento \n",
    "apartamentos ['candangolandia'] = 4\n",
    "\n",
    "for apartamento, quantidade in apartamentos.items():\n",
    "  print(f\"{apartamento}: {quantidade}\")\n",
    "\n",
    "   \n"
   ]
  },
  {
   "cell_type": "markdown",
   "metadata": {},
   "source": [
    " criar um dicionario quinta_ estudo (materia:hora_Estudo)\n",
    " criar um dicionario sexta_estado\n",
    " "
   ]
  },
  {
   "cell_type": "code",
   "execution_count": 7,
   "metadata": {},
   "outputs": [
    {
     "name": "stdout",
     "output_type": "stream",
     "text": [
      "Paradigma : 15\n",
      "Objeto : 10\n",
      "Classe : 15\n",
      "Método : 15\n",
      "Herança : 10\n",
      "Polimorfismo : 15\n",
      "Encapsulamento : 22\n"
     ]
    }
   ],
   "source": [
    "aula_quinta = {\n",
    "\"Paradigma\" : 15,\n",
    "\"Objeto\" : 10,\n",
    "\"Classe\" : 15, \n",
    "\"Método\" : 15,\n",
    "\"Herança\" : 10,\n",
    "\"Polimorfismo\" : 15,\n",
    "\"Encapsulamento\" : 22\n",
    "}\n",
    "\n",
    "aula_sexta = {\n",
    "    \"Média\" : 5,\n",
    "    \"Mediana\": 10,\n",
    "    \"Moda\": 10,\n",
    "    \"Quartis\" : 40,\n",
    "    \"Desvio Padrão\" : 60\n",
    "}\n",
    "\n",
    "for materia, minutos in aula_quinta.items():\n",
    "    print(f\"{materia} : {minutos}\")\n"
   ]
  }
 ],
 "metadata": {
  "kernelspec": {
   "display_name": "Python 3",
   "language": "python",
   "name": "python3"
  },
  "language_info": {
   "codemirror_mode": {
    "name": "ipython",
    "version": 3
   },
   "file_extension": ".py",
   "mimetype": "text/x-python",
   "name": "python",
   "nbconvert_exporter": "python",
   "pygments_lexer": "ipython3",
   "version": "3.12.4"
  }
 },
 "nbformat": 4,
 "nbformat_minor": 2
}
