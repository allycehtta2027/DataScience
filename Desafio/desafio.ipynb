{
 "cells": [
  {
   "cell_type": "markdown",
   "metadata": {},
   "source": [
    "DESAFIO:\n",
    "\n",
    "1) Importe o arquivo alunos.csv e armazene seu conteúdo  em um DataFrame pandas.\n",
    "2) Visualize as primeiras 7 linhas do DataFrame e as 5 últimas\n",
    "3) Confira a quantidade linhas e colunas desse DataFrame\n",
    "4) Explore as colunas do DataFrame e analise  os tipos dos dados presentes em cada coluna.\n"
   ]
  },
  {
   "cell_type": "code",
   "execution_count": 1,
   "metadata": {},
   "outputs": [],
   "source": [
    "import pandas as pd"
   ]
  },
  {
   "cell_type": "markdown",
   "metadata": {},
   "source": [
    "Visualize as primeiras 7 linhas do DataFrame e as 5 últimas "
   ]
  },
  {
   "cell_type": "code",
   "execution_count": 3,
   "metadata": {},
   "outputs": [
    {
     "data": {
      "text/html": [
       "<div>\n",
       "<style scoped>\n",
       "    .dataframe tbody tr th:only-of-type {\n",
       "        vertical-align: middle;\n",
       "    }\n",
       "\n",
       "    .dataframe tbody tr th {\n",
       "        vertical-align: top;\n",
       "    }\n",
       "\n",
       "    .dataframe thead th {\n",
       "        text-align: right;\n",
       "    }\n",
       "</style>\n",
       "<table border=\"1\" class=\"dataframe\">\n",
       "  <thead>\n",
       "    <tr style=\"text-align: right;\">\n",
       "      <th></th>\n",
       "      <th></th>\n",
       "      <th></th>\n",
       "      <th>DataSet:</th>\n",
       "    </tr>\n",
       "  </thead>\n",
       "  <tbody>\n",
       "    <tr>\n",
       "      <th>Nome</th>\n",
       "      <th>Idade</th>\n",
       "      <th>Notas</th>\n",
       "      <td>Aprovado</td>\n",
       "    </tr>\n",
       "    <tr>\n",
       "      <th>Ary</th>\n",
       "      <th>20</th>\n",
       "      <th>7.5</th>\n",
       "      <td>True</td>\n",
       "    </tr>\n",
       "    <tr>\n",
       "      <th>Ana</th>\n",
       "      <th>18</th>\n",
       "      <th>NaN</th>\n",
       "      <td>False</td>\n",
       "    </tr>\n",
       "    <tr>\n",
       "      <th>Cátia</th>\n",
       "      <th>27</th>\n",
       "      <th>2.5</th>\n",
       "      <td>False</td>\n",
       "    </tr>\n",
       "    <tr>\n",
       "      <th>Denis</th>\n",
       "      <th>18</th>\n",
       "      <th>5.0</th>\n",
       "      <td>False</td>\n",
       "    </tr>\n",
       "    <tr>\n",
       "      <th>Beto</th>\n",
       "      <th>21</th>\n",
       "      <th>10.0</th>\n",
       "      <td>True</td>\n",
       "    </tr>\n",
       "    <tr>\n",
       "      <th>Bruna</th>\n",
       "      <th>23</th>\n",
       "      <th>NaN</th>\n",
       "      <td>False</td>\n",
       "    </tr>\n",
       "  </tbody>\n",
       "</table>\n",
       "</div>"
      ],
      "text/plain": [
       "                   DataSet:\n",
       "Nome  Idade Notas  Aprovado\n",
       "Ary   20    7.5        True\n",
       "Ana   18    NaN       False\n",
       "Cátia 27    2.5       False\n",
       "Denis 18    5.0       False\n",
       "Beto  21    10.0       True\n",
       "Bruna 23    NaN       False"
      ]
     },
     "execution_count": 3,
     "metadata": {},
     "output_type": "execute_result"
    }
   ],
   "source": [
    "url = \"Dataset/dataset.csv\"\n",
    "dados = pd.read_csv(url,sep=\",\")\n",
    "dados.head(7)"
   ]
  },
  {
   "cell_type": "code",
   "execution_count": 5,
   "metadata": {},
   "outputs": [
    {
     "data": {
      "text/html": [
       "<div>\n",
       "<style scoped>\n",
       "    .dataframe tbody tr th:only-of-type {\n",
       "        vertical-align: middle;\n",
       "    }\n",
       "\n",
       "    .dataframe tbody tr th {\n",
       "        vertical-align: top;\n",
       "    }\n",
       "\n",
       "    .dataframe thead th {\n",
       "        text-align: right;\n",
       "    }\n",
       "</style>\n",
       "<table border=\"1\" class=\"dataframe\">\n",
       "  <thead>\n",
       "    <tr style=\"text-align: right;\">\n",
       "      <th></th>\n",
       "      <th></th>\n",
       "      <th></th>\n",
       "      <th>DataSet:</th>\n",
       "    </tr>\n",
       "  </thead>\n",
       "  <tbody>\n",
       "    <tr>\n",
       "      <th>Mirla</th>\n",
       "      <th>25</th>\n",
       "      <th>9.0</th>\n",
       "      <td>True</td>\n",
       "    </tr>\n",
       "    <tr>\n",
       "      <th>Paulo</th>\n",
       "      <th>37</th>\n",
       "      <th>NaN</th>\n",
       "      <td>False</td>\n",
       "    </tr>\n",
       "    <tr>\n",
       "      <th>Mylena</th>\n",
       "      <th>29</th>\n",
       "      <th>7.0</th>\n",
       "      <td>True</td>\n",
       "    </tr>\n",
       "    <tr>\n",
       "      <th>Lucas</th>\n",
       "      <th>33</th>\n",
       "      <th>NaN</th>\n",
       "      <td>False</td>\n",
       "    </tr>\n",
       "    <tr>\n",
       "      <th>Nadia</th>\n",
       "      <th>34</th>\n",
       "      <th>8.0</th>\n",
       "      <td>True</td>\n",
       "    </tr>\n",
       "  </tbody>\n",
       "</table>\n",
       "</div>"
      ],
      "text/plain": [
       "              DataSet:\n",
       "Mirla  25 9.0     True\n",
       "Paulo  37 NaN    False\n",
       "Mylena 29 7.0     True\n",
       "Lucas  33 NaN    False\n",
       "Nadia  34 8.0     True"
      ]
     },
     "execution_count": 5,
     "metadata": {},
     "output_type": "execute_result"
    }
   ],
   "source": [
    "dados.tail(5)\n"
   ]
  },
  {
   "cell_type": "code",
   "execution_count": 4,
   "metadata": {},
   "outputs": [
    {
     "data": {
      "text/plain": [
       "(19, 1)"
      ]
     },
     "execution_count": 4,
     "metadata": {},
     "output_type": "execute_result"
    }
   ],
   "source": [
    "dados.shape"
   ]
  },
  {
   "cell_type": "code",
   "execution_count": 6,
   "metadata": {},
   "outputs": [
    {
     "data": {
      "text/plain": [
       "<bound method DataFrame.info of                        DataSet:\n",
       "Nome      Idade Notas  Aprovado\n",
       "Ary       20    7.5        True\n",
       "Ana       18    NaN       False\n",
       "Cátia     27    2.5       False\n",
       "Denis     18    5.0       False\n",
       "Beto      21    10.0       True\n",
       "Bruna     23    NaN       False\n",
       "Dara      21    7.0        True\n",
       "Carlos    19    6.0        True\n",
       "Alice     35    5.6       False\n",
       "Vitor     28    NaN       False\n",
       "Daniel    21    NaN       False\n",
       "Igor      24    4.5       False\n",
       "Sthefanie 26    9.5        True\n",
       "Mirla     25    9.0        True\n",
       "Paulo     37    NaN       False\n",
       "Mylena    29    7.0        True\n",
       "Lucas     33    NaN       False\n",
       "Nadia     34    8.0        True>"
      ]
     },
     "execution_count": 6,
     "metadata": {},
     "output_type": "execute_result"
    }
   ],
   "source": [
    "dados.info"
   ]
  },
  {
   "cell_type": "code",
   "execution_count": 7,
   "metadata": {},
   "outputs": [
    {
     "data": {
      "text/plain": [
       "Index(['DataSet:'], dtype='object')"
      ]
     },
     "execution_count": 7,
     "metadata": {},
     "output_type": "execute_result"
    }
   ],
   "source": [
    "dados.columns"
   ]
  }
 ],
 "metadata": {
  "kernelspec": {
   "display_name": "Python 3",
   "language": "python",
   "name": "python3"
  },
  "language_info": {
   "codemirror_mode": {
    "name": "ipython",
    "version": 3
   },
   "file_extension": ".py",
   "mimetype": "text/x-python",
   "name": "python",
   "nbconvert_exporter": "python",
   "pygments_lexer": "ipython3",
   "version": "3.12.4"
  }
 },
 "nbformat": 4,
 "nbformat_minor": 2
}
